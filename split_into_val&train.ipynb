{
  "nbformat": 4,
  "nbformat_minor": 0,
  "metadata": {
    "colab": {
      "name": "split_into_val&train.ipynb",
      "provenance": []
    },
    "kernelspec": {
      "name": "python3",
      "display_name": "Python 3"
    }
  },
  "cells": [
    {
      "cell_type": "code",
      "metadata": {
        "id": "AUSBMsntIm4e"
      },
      "source": [
        ""
      ],
      "execution_count": null,
      "outputs": []
    },
    {
      "cell_type": "code",
      "metadata": {
        "id": "REdyvMCQHV3S",
        "outputId": "ab4a5835-b770-446f-ae2b-1db44ce82c68"
      },
      "source": [
        "\n",
        "\n",
        "import os\n",
        "import numpy as np\n",
        "import shutil\n",
        "\n",
        "# # Creating Train / Val folders (One time use)\n",
        "root_dir = 'C:/Users/Administrateur/Desktop/DEV DATA IA/Python_Boris/Projet_DL/FashionNet-master/Data_Categories'\n",
        " \n",
        "black = '/Black/'\n",
        "blue = '/Blue/'\n",
        "green = '/Green/'\n",
        "red = '/Red/'\n",
        "white = '/White/'\n",
        "\n",
        "\n",
        "#manches_courtes = '/Manches_courtes/'\n",
        "#manches_longues ='/Manches_longues/'\n",
        "#manches_sans = '/Manches_sans/'\n",
        "#\n",
        "#manteau = '/Manteau/'\n",
        "#pull = '/Pull/'\n",
        "#robe = '/Robe/'\n",
        "#top = '/Top/'\n",
        "#veste = '/Veste/'\n",
        "#\n",
        "#carreaux = '/Carreaux/'\n",
        "#floral = '/Floral/'\n",
        "#motifs = '/Motifs/'\n",
        "#rayures = '/Rayures/'\n",
        "#unie = '/Unie/'\n",
        "#\n",
        "\n",
        "\n",
        "#\n",
        "#coton = '/Coton/'\n",
        "#denim = '/Denim/'\n",
        "#dentelle = '/Dentelle/'\n",
        "#laine = '/Laine/'\n",
        "#leather = '/leather/'\n",
        "#\n",
        "\n",
        "#create directories\n",
        "os.makedirs(root_dir +'/train/' + black)\n",
        "os.makedirs(root_dir +'/train/' + blue)\n",
        "os.makedirs(root_dir +'/train/' + green)\n",
        "os.makedirs(root_dir +'/train' + red)\n",
        "os.makedirs(root_dir +'/train/' + white)\n",
        "\n",
        "\n",
        "os.makedirs(root_dir +'/val/' + black)\n",
        "os.makedirs(root_dir +'/val/' + blue)\n",
        "os.makedirs(root_dir +'/val/' + green)\n",
        "os.makedirs(root_dir +'/val/' + red)\n",
        "os.makedirs(root_dir +'/val/' + white)\n",
        "\n",
        "#os.makedirs(root_dir +'/test/' + coton)\n",
        "#os.makedirs(root_dir +'/test/' + denim)\n",
        "#os.makedirs(root_dir +'/test/' + dentelle)\n",
        "#os.makedirs(root_dir +'/test/' + laine)\n",
        "#os.makedirs(root_dir +'/test/' + leather)\n",
        "#\n",
        "# Creating partitions of the data after shuffeling\n",
        "current = white #a modifier juste ici\n",
        "src = \"C:/Users/Administrateur/Desktop/DEV DATA IA/Python_Boris/Projet_DL/FashionNet-master/Data_Categories\"+current # Folder to copy images from\n",
        "\n",
        "# Liste des fichiers d’un répertoire\n",
        "allFileNames = os.listdir(src)\n",
        "np.random.shuffle(allFileNames)\n",
        "train_FileNames, val_FileNames = np.split(np.array(allFileNames),\n",
        "                                                          [int(len(allFileNames)*0.8)])\n",
        "\n",
        "#train_FileNames, val_FileNames, test_FileNames = np.split(np.array(allFileNames),\n",
        "                                                          #[int(len(allFileNames)*0.7), int(len(allFileNames)*0.85)])\n",
        "    \n",
        "train_FileNames = [src+'/'+ name for name in train_FileNames.tolist()]\n",
        "val_FileNames = [src+'/' + name for name in val_FileNames.tolist()]\n",
        "#test_FileNames = [src+'/' + name for name in test_FileNames.tolist()]\n",
        "\n",
        "print('Total images: ', len(allFileNames))\n",
        "print('Training: ', len(train_FileNames))\n",
        "print('Validation: ', len(val_FileNames))\n",
        "#print('Testing: ', len(test_FileNames))\n",
        "\n",
        "## Copy-pasting images\n",
        "for name in train_FileNames:\n",
        "    shutil.copy(name, \"C:/Users/Administrateur/Desktop/DEV DATA IA/Python_Boris/Projet_DL/FashionNet-master/Data_Categories/train\"+current)\n",
        "\n",
        "for name in val_FileNames:\n",
        "    shutil.copy(name, \"C:/Users/Administrateur/Desktop/DEV DATA IA/Python_Boris/Projet_DL/FashionNet-master/Data_Categories/val\"+current)\n",
        "\n",
        "#for name in test_FileNames:\n",
        "    #shutil.copy(name, \"C:/Users/Administrateur/Desktop/DEV DATA IA/Python_Boris/Projet_DL/FashionNet-master/Data_Categories/Data_Matiere/test\"+current)\n",
        "\n"
      ],
      "execution_count": null,
      "outputs": [
        {
          "output_type": "stream",
          "text": [
            "Total images:  2175\n",
            "Training:  1740\n",
            "Validation:  435\n"
          ],
          "name": "stdout"
        }
      ]
    }
  ]
}